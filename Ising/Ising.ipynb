{
 "cells": [
  {
   "cell_type": "code",
   "execution_count": null,
   "metadata": {},
   "outputs": [],
   "source": [
    "import numpy as np\n",
    "from matplotlib import pyplot,colors\n",
    "from __future__ import division\n",
    "from scipy.optimize import curve_fit\n",
    "%matplotlib inline"
   ]
  },
  {
   "cell_type": "markdown",
   "metadata": {},
   "source": [
    "## Se definen algunas de las funciones a usar."
   ]
  },
  {
   "cell_type": "code",
   "execution_count": null,
   "metadata": {},
   "outputs": [],
   "source": [
    "# Magnetizacion de todo el sistema\n",
    "def Magneto(S):  \n",
    "   #Suma todos los elementos de la matriz. \n",
    "    M = np.sum(S)\n",
    "    return M"
   ]
  },
  {
   "cell_type": "code",
   "execution_count": null,
   "metadata": {},
   "outputs": [],
   "source": [
    "# Energia de todo el sistema\n",
    "def EnergiaTotal(S,L): \n",
    "    E = 0\n",
    "\n",
    "    for i in range(0,L-1):\n",
    "        for j in range(0,L-1):\n",
    "            E += -B*S[i,j]-J*S[i,j]*(S[i-1,j]+S[i,j-1]+S[i,(j+1)%L]+S[(i+1)%L,j])/2\n",
    "            # (j+1)%L y (i+1)%L arregla el problema de los bordes. Si i+1<L => (i+1)%L=i+1. En el caso\n",
    "            # en que i+1 = L devuelve 0. De esa manera me aseguro que siempre me quede dentro del tamaño del array.\n",
    "    return E"
   ]
  },
  {
   "cell_type": "code",
   "execution_count": null,
   "metadata": {},
   "outputs": [],
   "source": [
    "#Me quedo con los estados mas probables\n",
    "def isingin2D(S, beta, B,L):\n",
    "    # Elegimos una posición del array al azar.\n",
    "    i = np.random.randint(0,L) #Crea un entero aleatorio entre 0 y L-1, osea L elementos.\n",
    "    j = np.random.randint(0,L) \n",
    "\n",
    "    # Veo la energia del estado inicial:\n",
    "    Einicial = -B*S[i,j]-J*S[i,j]*(S[i-1,j]+S[i,j-1]+S[i,(j+1)%L]+S[(i+1)%L,j]) # antes de rotar el espin\n",
    "    deltaE = -2*Einicial # Diferencia de energia entre tener spin up or down en el punto (i,j)\n",
    "    #Al estar el spin de dicho punto factorizado, la diferencia es dos veces la Energia inicial\n",
    "\n",
    "    \n",
    "    #Si delta E<0, entonces invertimos el espin, por lo tanto aparece un cambio en la energia\n",
    "    if deltaE <= 0:\n",
    "        # Cambia el spin:\n",
    "        dE = deltaE\n",
    "        dM = -2*S[i,j]\n",
    "        S[i,j] = -S[i,j]\n",
    "\n",
    "    else:\n",
    "        #Acá está es la división de las probabilidades de transición. Está es la condición de balance detallado a su vez\n",
    "        # p es lo que sacamos del cociente de probabilidad de transición a el estado spin up sobre el estado spin down\n",
    " \n",
    "        p = np.exp(-beta*deltaE)\n",
    "        r = np.random.random_sample() #Esta funcion retorna numeros entre 0 y 1 aleatoriamente\n",
    "        #La p es el cociente de probabilidades de transición, y a su vez cumple que es una distribución normalizada a 1\n",
    "        #nos dara cual de los dos estados es más probable. De esta manera no tenemos que sacar la cte de normalizacion\n",
    "        if r < p:\n",
    "            #Cambia el spin:\n",
    "            dE = deltaE\n",
    "            dM = -2*S[i,j]\n",
    "            S[i,j] = -S[i,j]\n",
    "        else:\n",
    "            #No cambia el spin, entonces todo aporta 0.\n",
    "            dE = 0\n",
    "            dM = 0\n",
    "   \n",
    "    return S, dE, dM  # Devuelve los nuevos S, dE, dM"
   ]
  },
  {
   "cell_type": "code",
   "execution_count": null,
   "metadata": {},
   "outputs": [],
   "source": [
    "def functionTermalizadora(L,S,beta,B,J,npre,npasos,estadoinicial): #Estadoinicial = 1 me plotea el S incial\n",
    "    energia = np.zeros(npasos)\n",
    "    magnet = np.zeros(npasos)\n",
    "\n",
    "    for n in range(npre):\n",
    "        S, dE, dM=isingin2D(S,beta,B,L)\n",
    "        \n",
    "    # muestro el estado inicial (Simplemente grafica la red inicial, si pongo en el ultimo parametro 0 esto lo saltea)\n",
    "    if estadoinicial == 1:\n",
    "        pyplot.figure(1)\n",
    "        cmap = colors.ListedColormap(['white', 'red'])\n",
    "        pyplot.imshow(S,interpolation='none',cmap=cmap)\n",
    "        pyplot.title(\"Estado inicial de la matriz:\")\n",
    "        pyplot.show(block=False)\n",
    "    \n",
    "    #El estado inicial de energia y magnetización\n",
    "    energia[0] = EnergiaTotal(S,L)\n",
    "    magnet[0] = Magneto(S)\n",
    "\n",
    "    for n in range(npasos-1):\n",
    "        S, dE, dM = isingin2D(S,beta,B,L);\n",
    "        energia[n+1] = energia[n] + dE;\n",
    "        magnet[n+1] = magnet[n] + dM;\n",
    "\n",
    "\n",
    "    return energia, magnet "
   ]
  },
  {
   "cell_type": "markdown",
   "metadata": {},
   "source": [
    "## Luego de algunas pruebas se vio que la termalizacion depende de la temperatura y del tamaño del arreglo "
   ]
  },
  {
   "cell_type": "code",
   "execution_count": null,
   "metadata": {},
   "outputs": [],
   "source": [
    "\n",
    "pyplot.figure(2)\n",
    "#pyplot.plot(magnetT0/(L0*L0),label='L = 8') #(Vemos la magnetizacion por celda)\n",
    "pyplot.plot(magnetT1/(L1*L1),label='L = 16') #(Vemos la magnetizacion por celda)\n",
    "pyplot.plot(magnetT2/(L2*L2),label='L = 32') #(Vemos la magnetizacion por celda)\n",
    "pyplot.plot(magnetT3/(L3*L3),label='L = 64') #(Vemos la magnetizacion por celda)\n",
    "pyplot.plot(magnetT4/(L4*L4),label='L = 128') #(Vemos la magnetizacion por celda)\n",
    "pyplot.title(\"Magnetizacionn del sistema:\")\n",
    "pyplot.xlabel('Paso')\n",
    "pyplot.ylabel('Magnetizacion por sitio')\n",
    "pyplot.legend()\n",
    "pyplot.show()\n",
    "\n",
    "pyplot.figure(3)\n",
    "#pyplot.plot(energiaT0/(L0*L0),label='L = 8')\n",
    "pyplot.plot(energiaT1/(L1*L1),label='L = 16')\n",
    "pyplot.plot(energiaT2/(L2*L2),label='L = 32')\n",
    "pyplot.plot(energiaT3/(L3*L3),label='L = 64')\n",
    "pyplot.plot(energiaT4/(L4*L4),label='L = 128')\n",
    "pyplot.title(\"Energia del sistema:\")\n",
    "pyplot.xlabel('Paso')\n",
    "pyplot.ylabel('Energia por sitio')\n",
    "pyplot.legend()\n",
    "pyplot.show()"
   ]
  },
  {
   "cell_type": "code",
   "execution_count": null,
   "metadata": {},
   "outputs": [],
   "source": [
    "L0=8\n",
    "L1 = 16 #tamaño de un lado de la red de spines\n",
    "L2= 32\n",
    "L3 = 64 \n",
    "L4= 128\n",
    "T = 1\n",
    "beta = 1/T #MU=1 por conveniencia\n",
    "J = 1\n",
    "B = 0 #Este es le campo magnetico que está apagado, hay que prenderlo y tirar valores a ver si termina dependiendo del B o no.\n",
    "S = 2*(np.random.rand(L0,L0)>0.5) -1; # Genero un estado aleatorio de espines(1,-1) en un arreglo de L por L\n",
    "#Tira un numero entre 0 y 1, si es mayor a 0.5 le asigna 1.\n",
    "#Si es menor le asigna -1. Luego 1*2-1=1 y 0*2-1=-1\n",
    "\n",
    "npre = 0\n",
    "npasos = 100000#Cantidad de pasos posteriores\n",
    "energia= np.zeros(npasos)\n",
    "magnet = np.zeros(npasos)\n",
    "energiaT0, magnetT0= functionTermalizadora(L0,S,beta,B,J,npre, npasos,1)\n",
    "\n",
    "S = 2*(np.random.rand(L1,L1)>0.5) -1;\n",
    "energia= np.zeros(npasos)\n",
    "magnet = np.zeros(npasos)\n",
    "energiaT1, magnetT1= functionTermalizadora(L1,S,beta,B,J,npre, npasos,1)\n",
    "\n",
    "S = 2*(np.random.rand(L2,L2)>0.5) -1;\n",
    "energia= np.zeros(npasos)\n",
    "magnet = np.zeros(npasos)\n",
    "energiaT2, magnetT2= functionTermalizadora(L2,S,beta,B,J,npre, npasos,1)\n",
    "S = 2*(np.random.rand(L3,L3)>0.5) -1;\n",
    "energia= np.zeros(npasos)\n",
    "magnet = np.zeros(npasos)\n",
    "energiaT3, magnetT3= functionTermalizadora(L3,S,beta,B,J,npre, npasos,1)\n",
    "S = 2*(np.random.rand(L4,L4)>0.5) -1;\n",
    "energia= np.zeros(npasos)\n",
    "magnet = np.zeros(npasos)\n",
    "energiaT4, magnetT4= functionTermalizadora(L4,S,beta,B,J,npre, npasos,1)\n",
    "\n",
    "pyplot.figure(2)\n",
    "#pyplot.plot(magnetT0/(L0*L0),label='L = 8') #(Vemos la magnetizacion por celda)\n",
    "pyplot.plot(magnetT1/(L1*L1),label='L = 16') #(Vemos la magnetizacion por celda)\n",
    "pyplot.plot(magnetT2/(L2*L2),label='L = 32') #(Vemos la magnetizacion por celda)\n",
    "pyplot.plot(magnetT3/(L3*L3),label='L = 64') #(Vemos la magnetizacion por celda)\n",
    "pyplot.plot(magnetT4/(L4*L4),label='L = 128') #(Vemos la magnetizacion por celda)\n",
    "pyplot.title(\"Magnetizacionn del sistema:\")\n",
    "pyplot.xlabel('Paso')\n",
    "pyplot.ylabel('Magnetizacion por sitio')\n",
    "pyplot.legend()\n",
    "pyplot.show()\n",
    "\n",
    "pyplot.figure(3)\n",
    "#pyplot.plot(energiaT0/(L0*L0),label='L = 8')\n",
    "pyplot.plot(energiaT1/(L1*L1),label='L = 16')\n",
    "pyplot.plot(energiaT2/(L2*L2),label='L = 32')\n",
    "pyplot.plot(energiaT3/(L3*L3),label='L = 64')\n",
    "pyplot.plot(energiaT4/(L4*L4),label='L = 128')\n",
    "pyplot.title(\"Energia del sistema:\")\n",
    "pyplot.xlabel('Paso')\n",
    "pyplot.ylabel('Energia por sitio')\n",
    "pyplot.legend()\n",
    "pyplot.show()"
   ]
  },
  {
   "cell_type": "code",
   "execution_count": null,
   "metadata": {},
   "outputs": [],
   "source": [
    "pyplot.figure(2)\n",
    "\n",
    "pyplot.plot(magnetT1/(L1*L1),label='L = 16') #(Vemos la magnetizacion por celda)\n",
    "pyplot.plot(magnetT2/(L2*L2),label='L = 32') #(Vemos la magnetizacion por celda)\n",
    "pyplot.plot(magnetT3/(L3*L3),label='L = 64') #(Vemos la magnetizacion por celda)\n",
    "pyplot.plot(magnetT4/(L4*L4),label='L = 128') #(Vemos la magnetizacion por celda)\n",
    "pyplot.title(\"Magnetizacionn del sistema:\")\n",
    "pyplot.xlabel('Paso')\n",
    "pyplot.ylabel('Magnetizacion por sitio')\n",
    "pyplot.legend()\n",
    "pyplot.show()\n",
    "\n",
    "pyplot.figure(3)\n",
    "\n",
    "pyplot.plot(energiaT1,label='L = 16')\n",
    "pyplot.plot(energiaT2,label='L = 32')\n",
    "pyplot.plot(energiaT3,label='L = 64')\n",
    "pyplot.plot(energiaT4,label='L = 128')\n",
    "pyplot.title(\"Energia del sistema:\")\n",
    "pyplot.xlabel('Paso')\n",
    "pyplot.ylabel('Energia por sitio')\n",
    "pyplot.legend()\n",
    "pyplot.show()"
   ]
  },
  {
   "cell_type": "code",
   "execution_count": null,
   "metadata": {},
   "outputs": [],
   "source": [
    "L = 8 #tamaño de un lado de la red de spines\n",
    "T = 2.2\n",
    "beta = 1/T #MU=1 por conveniencia\n",
    "J = 1\n",
    "B = 0 #Este es le campo magnetico que está apagado, hay que prenderlo y tirar valores a ver si termina dependiendo del B o no.\n",
    "S = 2*(np.random.rand(L,L)>0.5) -1; # Genero un estado aleatorio de espines(1,-1) en un arreglo de L por L\n",
    "#Tira un numero entre 0 y 1, si es mayor a 0.5 le asigna 1.\n",
    "#Si es menor le asigna -1. Luego 1*2-1=1 y 0*2-1=-1\n",
    "cantidadTemperaturas = 8\n",
    "\n",
    "for i in range(0,L,16):\n",
    "    for i in range(0,cantidadTemperaturas,2):\n",
    "        beta = 1/i \n",
    "        npre = 10000\n",
    "        npasos = 1000000#Cantidad de pasos posteriores\n",
    "        energia= np.zeros(npasos)\n",
    "        magnet = np.zeros(npasos)\n",
    "\n",
    "        energia, magnet= functionTermalizadora(L,S,beta,B,J,npre, npasos,1)\n",
    "\n",
    "pyplot.figure(2)\n",
    "pyplot.plot(magnet/(L*L)) #(Vemos la magnetizacion por celda)\n",
    "pyplot.title(\"Magnetizacionn del sistema:\")\n",
    "pyplot.xlabel('Paso')\n",
    "pyplot.ylabel('Magnetizacion por sitio')\n",
    "pyplot.show()\n",
    "\n",
    "pyplot.figure(3)\n",
    "pyplot.plot(energia/(L*L))\n",
    "pyplot.title(\"Energia del sistema:\")\n",
    "pyplot.xlabel('Paso')\n",
    "pyplot.ylabel('Energia por sitio')\n",
    "pyplot.show()"
   ]
  },
  {
   "cell_type": "markdown",
   "metadata": {},
   "source": [
    "## Se puede observar en las figuras de arriba que en estas condiciones tanto la energia y la magnetizacion del sistema logran llegar a un equilibrio despues de las $10^{4}$ iteraciones"
   ]
  },
  {
   "cell_type": "markdown",
   "metadata": {},
   "source": [
    "## Defino las funciones para calcular la media de la magnetizacion y la energia. Ademas la dispercion cuadratica."
   ]
  },
  {
   "cell_type": "code",
   "execution_count": null,
   "metadata": {},
   "outputs": [],
   "source": [
    "def CalcMedio(magnet, energia):  # magnetizacion de todo el sistema\n",
    "   #Suma todos los elementos de la matriz.\n",
    "    npasos=np.size(magnet)\n",
    "    difn=30000\n",
    "    ni = npasos - difn\n",
    "    MM = 0\n",
    "    EM = 0\n",
    "    \n",
    "    for i in range(ni, npasos - 1):\n",
    "        MM += magnet[i]/difn\n",
    "        EM += energia[i]/difn\n",
    "\n",
    "    return MM,EM"
   ]
  },
  {
   "cell_type": "code",
   "execution_count": null,
   "metadata": {},
   "outputs": [],
   "source": [
    "def Dispersion(magnet, energia, temperatura):\n",
    "    MM,EM = CalcMedio(magnet, energia)\n",
    "    npasos=np.size(magnet)\n",
    "    difn=30000\n",
    "    ni = npasos - difn\n",
    "    MM2 = 0\n",
    "    EM2 = 0\n",
    "    dispeM = 0\n",
    "    dispeE = 0\n",
    "    sup=0\n",
    "    cv=0\n",
    "    \n",
    "    for i in range(ni,npasos-1):\n",
    "        MM2 += magnet[i]*magnet[i]/difn\n",
    "        EM2 += energia[i]*energia[i]/difn\n",
    "    MM2 = MM2/npasos\n",
    "    EM2 = EM2/npasos\n",
    "    dispeM = np.sqrt(MM2-MM*MM)\n",
    "    dispeE = np.sqrt(EM2-EM*EM)\n",
    "    sup = (MM2-MM*MM)*temperatura\n",
    "    cv=(EM2-EM*EM)*(temperatura*temperatura)\n",
    "    return dispeM, dispeE,sup,cv"
   ]
  },
  {
   "cell_type": "markdown",
   "metadata": {},
   "source": [
    "## Se define una funcion para poder calcular a varias temperaturas y tomar los valores medios y disperciones cuadraticas"
   ]
  },
  {
   "cell_type": "code",
   "execution_count": null,
   "metadata": {},
   "outputs": [],
   "source": [
    "def MagnetEnergCvSucep(L,B,J,cantidadTemperaturas,Temp): #Hago el barrido de temperaturas, utilizando para cada una de\n",
    "                                                        #ellas la funcion termalizadora.\n",
    "    \n",
    "    magnetizacionmediadeT = np.zeros(cantidadTemperaturas)\n",
    "    DispM = np.zeros(cantidadTemperaturas)\n",
    "    energiamediadeT = np.zeros(cantidadTemperaturas)\n",
    "    temperatura = np.zeros(cantidadTemperaturas)\n",
    "    DispE = np.zeros(cantidadTemperaturas)\n",
    "    sup = np.zeros(cantidadTemperaturas)\n",
    "    cv = np.zeros(cantidadTemperaturas)\n",
    "    npre = 10000\n",
    "    npasos = 1000000\n",
    "    \n",
    "    for i in range(0,cantidadTemperaturas):\n",
    "        print(i)      \n",
    "        temperatura[i]=Temp[i]\n",
    "        beta = 1.0/(temperatura[i])\n",
    "        energia= np.zeros(npasos)\n",
    "        magnet = np.zeros(npasos)\n",
    "        energia, magnet = functionTermalizadora(L,S,beta,B,J,npre, npasos,0)\n",
    "        npre=0 #solo quiero que pretermalize la primera vez\n",
    "        magnetizacionmediadeT[i], energiamediadeT[i] = CalcMedio(magnet, energia)\n",
    "        DispM[i], DispE[i], sup[i], cv[i]= Dispersion(magnet, energia, temperatura[i])\n",
    "        \n",
    "    return magnetizacionmediadeT, temperatura, DispM, DispE, energiamediadeT,sup,cv"
   ]
  },
  {
   "cell_type": "markdown",
   "metadata": {},
   "source": [
    "## Se quiere ver el cambio de fase."
   ]
  },
  {
   "cell_type": "code",
   "execution_count": null,
   "metadata": {},
   "outputs": [],
   "source": [
    "Temp1 = np.linspace(0.1,1.5,50)\n",
    "Temp2 = np.linspace(1.5,3,200)\n",
    "Temp3 = np.linspace(3,4,50)\n",
    "\n",
    "Temp = np.zeros(300) #una forma a la fuerza bruta para generarme el vector que quiero de temperaturas.\n",
    "for i in range(len(Temp)):\n",
    "    if i<50:\n",
    "        Temp[i]=Temp1[i]\n",
    "    elif i>=50:\n",
    "        if i <250:\n",
    "            Temp[i]=Temp2[i-50]\n",
    "        elif i>=250:\n",
    "            Temp[i] = Temp3[i-250]"
   ]
  },
  {
   "cell_type": "code",
   "execution_count": null,
   "metadata": {},
   "outputs": [],
   "source": [
    "cantidadTemperaturas = len(Temp)\n",
    "B=0\n",
    "J=1.0\n",
    "L0=16\n",
    "L1=32\n",
    "L2=64\n",
    "S = np.ones((L0,L0)); \n",
    "#S = 2*(np.random.rand(L,L)>0.5) -1;\n",
    "magnetizacionmediadeT16, temperatura, DispM, DispE, energiamediadeT16,sup,cv = MagnetEnergCvSucep(L0,B,J,cantidadTemperaturas,Temp)\n",
    "S = np.ones((L1,L1)); \n",
    "magnetizacionmediadeT32, temperatura, DispM, DispE, energiamediadeT32,sup,cv = MagnetEnergCvSucep(L1,B,J,cantidadTemperaturas,Temp)\n",
    "S = np.ones((L2,L2)); \n",
    "magnetizacionmediadeT64, temperatura, DispM, DispE, energiamediadeT64,sup,cv = MagnetEnergCvSucep(L2,B,J,cantidadTemperaturas,Temp)\n",
    "L4=4\n",
    "L8=8\n",
    "\n",
    "S = np.ones((L8,L8)); \n",
    "#S = 2*(np.random.rand(L,L)>0.5) -1;\n",
    "magnetizacionmediadeT8, temperatura, DispM, DispE, energiamediadeT8,sup,cv = MagnetEnergCvSucep(L8,B,J,cantidadTemperaturas,Temp)\n",
    "S = np.ones((L4,L4)); \n",
    "magnetizacionmediadeT4, temperatura, DispM, DispE, energiamediadeT4,sup,cv = MagnetEnergCvSucep(L4,B,J,cantidadTemperaturas,Temp)\n"
   ]
  },
  {
   "cell_type": "code",
   "execution_count": null,
   "metadata": {},
   "outputs": [],
   "source": [
    "cantidadTemperaturas = len(Temp)\n",
    "B=0\n",
    "J=1.0\n",
    "L4=4\n",
    "L8=8\n",
    "\n",
    "S = np.ones((L8,L8)); \n",
    "#S = 2*(np.random.rand(L,L)>0.5) -1;\n",
    "magnetizacionmediadeT8, temperatura, DispM, DispE, energiamediadeT8,sup,cv = MagnetEnergCvSucep(L8,B,J,cantidadTemperaturas,Temp)\n",
    "S = np.ones((L4,L4)); \n",
    "magnetizacionmediadeT4, temperatura, DispM, DispE, energiamediadeT4,sup,cv = MagnetEnergCvSucep(L4,B,J,cantidadTemperaturas,Temp)\n"
   ]
  },
  {
   "cell_type": "code",
   "execution_count": null,
   "metadata": {},
   "outputs": [],
   "source": [
    "L5=32\n",
    "S = np.ones((L5,L5)); \n",
    "magnetizacionmediadeT, temperatura, DispM, DispE, energiamediadeT,sup,cv = MagnetEnergCvSucep(L5,B,J,cantidadTemperaturas,Temp)\n"
   ]
  },
  {
   "cell_type": "code",
   "execution_count": null,
   "metadata": {},
   "outputs": [],
   "source": [
    "pyplot.figure(4)\n",
    "#pyplot.plot(temperatura,energiamediadeT4/(L4*L4),label='L = 4')\n",
    "pyplot.scatter(temperatura,magnetizacionmediadeT8/(L8*L8),label='L = 8')\n",
    "pyplot.scatter(temperatura,magnetizacionmediadeT16/(L0*L0),label='L = 16')\n",
    "pyplot.scatter(temperatura,magnetizacionmediadeT32/(L1*L1),label='L = 32')\n",
    "pyplot.scatter(temperatura,magnetizacionmediadeT64/(L2*L2),label='L = 64')\n",
    "pyplot.scatter(temperatura,magnetizacionmediadeT128/(L5*L5),label='L = 128')\n",
    "pyplot.xlabel('Temperatura')\n",
    "pyplot.ylabel('Magnetizacion Media por sitio')\n",
    "pyplot.grid()\n",
    "pyplot.legend()\n",
    "pyplot.show()\n",
    "\n",
    "pyplot.figure(5)\n",
    "\n",
    "#pyplot.plot(temperatura,energiamediadeT4/(L4*L4),label='L = 4')\n",
    "pyplot.scatter(temperatura,energiamediadeT8/(L8*L8),label='L = 8')\n",
    "pyplot.scatter(temperatura,energiamediadeT16/(L0*L0),label='L = 16')\n",
    "pyplot.scatter(temperatura,energiamediadeT32/(L1*L1),label='L = 32')\n",
    "pyplot.scatter(temperatura,energiamediadeT64/(L2*L2),label='L = 64')\n",
    "pyplot.scatter(temperatura,energiamediadeT128/(L5*L5),label='L = 128')\n",
    "pyplot.xlim(1,4)\n",
    "pyplot.xlabel('Temperatura')\n",
    "pyplot.ylabel('Energia Media por sitio')\n",
    "pyplot.grid()\n",
    "pyplot.legend()\n",
    "pyplot.show()"
   ]
  },
  {
   "cell_type": "code",
   "execution_count": null,
   "metadata": {},
   "outputs": [],
   "source": [
    "pyplot.figure(4)\n",
    "pyplot.plot(temperatura,magnetizacionmediadeT128/(L*L))\n",
    "\n",
    "pyplot.xlabel('Temperatura')\n",
    "pyplot.ylabel('Magnetizacion Media por sitio')\n",
    "pyplot.grid()\n",
    "pyplot.show()\n",
    "\n",
    "pyplot.figure(5)\n",
    "pyplot.plot(temperatura,energiamediadeT128/(L*L))\n",
    "\n",
    "pyplot.xlabel('Temperatura')\n",
    "pyplot.ylabel('Energia Media por sitio')\n",
    "pyplot.grid()\n",
    "pyplot.show()\n",
    "\n",
    "pyplot.figure(6)\n",
    "pyplot.plot(temperatura,-sup) \n",
    "pyplot.xlim(0,4)\n",
    "\n",
    "pyplot.xlabel('Temperatura')\n",
    "pyplot.ylabel('Suceptibilidad')\n",
    "pyplot.grid()\n",
    "pyplot.show()\n",
    "\n",
    "\n",
    "\n",
    "pyplot.figure(8)\n",
    "pyplot.plot(temperatura,-cv/(L5*L5))\n",
    "pyplot.xlim(0.1,4)\n",
    "pyplot.xlabel('Temperatura')\n",
    "pyplot.ylabel('Cv')\n",
    "pyplot.grid()\n",
    "pyplot.show()\n",
    "\n"
   ]
  },
  {
   "cell_type": "code",
   "execution_count": null,
   "metadata": {},
   "outputs": [],
   "source": [
    "cv"
   ]
  },
  {
   "cell_type": "markdown",
   "metadata": {},
   "source": [
    "# Se puede observar que cerca de la temperatura critica,  la cual teoricamente es T=2.25 Kelvin, empieza el cambio de fase y es donde están los saltos o los picos en los graficos."
   ]
  },
  {
   "cell_type": "code",
   "execution_count": null,
   "metadata": {},
   "outputs": [],
   "source": [
    "import matplotlib.pyplot as plt\n",
    "import statsmodels.api as sm \n",
    "temp=temperatura\n",
    "mag=magnetizacionmediadeT128/(L*L)\n",
    "\n",
    "pyplot.scatter(temp,mag)\n",
    "pyplot.scatter(temp[125:158],smooth(mag[125:158],5))\n",
    "temp = temp[125:158]\n",
    "mag= smooth(mag[125:158],5)\n",
    "\n"
   ]
  },
  {
   "cell_type": "code",
   "execution_count": null,
   "metadata": {},
   "outputs": [],
   "source": [
    "pyplot.scatter(temp[2:31],mag[2:31])"
   ]
  },
  {
   "cell_type": "code",
   "execution_count": null,
   "metadata": {},
   "outputs": [],
   "source": [
    "def smooth(y, box_pts): \n",
    "    box = np.ones(box_pts)/box_pts \n",
    "    y_smooth = np.convolve(y, box, mode='same') \n",
    "    return y_smooth "
   ]
  },
  {
   "cell_type": "code",
   "execution_count": null,
   "metadata": {},
   "outputs": [],
   "source": [
    "\n",
    "mag_log = np.log(mag[2:28])\n",
    "temp_log = [np.log((2.28 - t)) for t in temp[2:28]]\n",
    "#plt.plot(temp_log[10:35],mag_log[10:35])"
   ]
  },
  {
   "cell_type": "code",
   "execution_count": null,
   "metadata": {},
   "outputs": [],
   "source": [
    "from scipy.stats import linregress\n",
    "slope, intercept, r_value, p_value, std_err = linregress(temp_log,mag_log)\n",
    "ajuste = [intercept + slope*t for t in temp_log]"
   ]
  },
  {
   "cell_type": "code",
   "execution_count": null,
   "metadata": {},
   "outputs": [],
   "source": [
    "plt.figure()\n",
    "plt.plot(temp_log,mag_log,color='blue',label='Simulación')\n",
    "plt.plot(temp_log,ajuste, color='red',label='Regresión lineal: pendiente {:.3f}'.format(slope))\n",
    "plt.xlabel('log(2.28-T)')\n",
    "plt.ylabel('log(m)')\n",
    "plt.legend()\n",
    "plt.show()"
   ]
  },
  {
   "cell_type": "code",
   "execution_count": null,
   "metadata": {},
   "outputs": [],
   "source": []
  }
 ],
 "metadata": {
  "kernelspec": {
   "display_name": "Python 3",
   "language": "python",
   "name": "python3"
  },
  "language_info": {
   "codemirror_mode": {
    "name": "ipython",
    "version": 3
   },
   "file_extension": ".py",
   "mimetype": "text/x-python",
   "name": "python",
   "nbconvert_exporter": "python",
   "pygments_lexer": "ipython3",
   "version": "3.6.5"
  }
 },
 "nbformat": 4,
 "nbformat_minor": 2
}
